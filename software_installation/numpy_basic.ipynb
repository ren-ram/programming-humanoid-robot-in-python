{
 "cells": [
  {
   "cell_type": "markdown",
   "id": "1fb0f441",
   "metadata": {
    "slideshow": {
     "slide_type": "slide"
    }
   },
   "source": [
    "# Numpy Basic"
   ]
  },
  {
   "cell_type": "markdown",
   "id": "9ae652c9",
   "metadata": {},
   "source": [
    "[Numpy](http://numpy.org/) contains core routines for doing fast vector, matrix, and linear algebra-type operations in Python."
   ]
  },
  {
   "cell_type": "code",
   "execution_count": 1,
   "id": "eb76922e",
   "metadata": {
    "collapsed": false
   },
   "outputs": [],
   "source": [
    "from numpy import *"
   ]
  },
  {
   "cell_type": "markdown",
   "id": "ee23b66e",
   "metadata": {},
   "source": [
    "## Create array"
   ]
  },
  {
   "cell_type": "code",
   "execution_count": 2,
   "id": "44e66ad4",
   "metadata": {
    "collapsed": false
   },
   "outputs": [
    {
     "data": {
      "text/plain": [
       "array([1, 2, 3])"
      ]
     },
     "execution_count": 2,
     "metadata": {},
     "output_type": "execute_result"
    }
   ],
   "source": [
    "array([1, 2, 3])"
   ]
  },
  {
   "cell_type": "code",
   "execution_count": 4,
   "id": "6c59223d",
   "metadata": {
    "collapsed": false
   },
   "outputs": [
    {
     "data": {
      "text/plain": [
       "array([[ 0.,  1.],\n",
       "       [ 1.,  0.]], dtype=float32)"
      ]
     },
     "execution_count": 4,
     "metadata": {},
     "output_type": "execute_result"
    }
   ],
   "source": [
    "array([[0,1],[1,0]], 'f')"
   ]
  },
  {
   "cell_type": "code",
   "execution_count": 7,
   "id": "3a8061d3",
   "metadata": {
    "collapsed": false
   },
   "outputs": [
    {
     "data": {
      "text/plain": [
       "array([[ 0.,  0.,  0.],\n",
       "       [ 0.,  0.,  0.]])"
      ]
     },
     "execution_count": 7,
     "metadata": {},
     "output_type": "execute_result"
    }
   ],
   "source": [
    "zeros((2, 3))"
   ]
  },
  {
   "cell_type": "code",
   "execution_count": 8,
   "id": "6a731c20",
   "metadata": {
    "collapsed": false
   },
   "outputs": [
    {
     "data": {
      "text/plain": [
       "array([[ 1.,  0.,  0.,  0.],\n",
       "       [ 0.,  1.,  0.,  0.],\n",
       "       [ 0.,  0.,  1.,  0.],\n",
       "       [ 0.,  0.,  0.,  1.]])"
      ]
     },
     "execution_count": 8,
     "metadata": {},
     "output_type": "execute_result"
    }
   ],
   "source": [
    "identity(4)"
   ]
  },
  {
   "cell_type": "markdown",
   "id": "2a659596",
   "metadata": {},
   "source": [
    "## Slicing"
   ]
  },
  {
   "cell_type": "code",
   "execution_count": 3,
   "id": "4acc6ff8",
   "metadata": {
    "collapsed": false
   },
   "outputs": [
    {
     "data": {
      "text/plain": [
       "array([[0, 1, 2],\n",
       "       [3, 4, 5]])"
      ]
     },
     "execution_count": 3,
     "metadata": {},
     "output_type": "execute_result"
    }
   ],
   "source": [
    "a = array([[0, 1, 2],[3, 4, 5]])\n",
    "a"
   ]
  },
  {
   "cell_type": "code",
   "execution_count": 4,
   "id": "c8bfe288",
   "metadata": {
    "collapsed": false
   },
   "outputs": [
    {
     "data": {
      "text/plain": [
       "0"
      ]
     },
     "execution_count": 4,
     "metadata": {},
     "output_type": "execute_result"
    }
   ],
   "source": [
    "a[0][0]"
   ]
  },
  {
   "cell_type": "code",
   "execution_count": 5,
   "id": "92669e15",
   "metadata": {
    "collapsed": false
   },
   "outputs": [
    {
     "data": {
      "text/plain": [
       "0"
      ]
     },
     "execution_count": 5,
     "metadata": {},
     "output_type": "execute_result"
    }
   ],
   "source": [
    "a[0, 0]"
   ]
  },
  {
   "cell_type": "code",
   "execution_count": 6,
   "id": "9d32cd2c",
   "metadata": {
    "collapsed": false
   },
   "outputs": [
    {
     "data": {
      "text/plain": [
       "3"
      ]
     },
     "execution_count": 6,
     "metadata": {},
     "output_type": "execute_result"
    }
   ],
   "source": [
    "a[-1, 0]"
   ]
  },
  {
   "cell_type": "code",
   "execution_count": 9,
   "id": "06918859",
   "metadata": {
    "collapsed": false
   },
   "outputs": [
    {
     "data": {
      "text/plain": [
       "array([1, 4])"
      ]
     },
     "execution_count": 9,
     "metadata": {},
     "output_type": "execute_result"
    }
   ],
   "source": [
    "a[:, 1]"
   ]
  },
  {
   "cell_type": "code",
   "execution_count": 8,
   "id": "88cf13da",
   "metadata": {
    "collapsed": false
   },
   "outputs": [
    {
     "data": {
      "text/plain": [
       "array([0, 1])"
      ]
     },
     "execution_count": 8,
     "metadata": {},
     "output_type": "execute_result"
    }
   ],
   "source": [
    "a[0, :-1]"
   ]
  },
  {
   "cell_type": "markdown",
   "id": "51e2958d",
   "metadata": {},
   "source": [
    "## Operation"
   ]
  },
  {
   "cell_type": "code",
   "execution_count": 10,
   "id": "fef0471c",
   "metadata": {
    "collapsed": false
   },
   "outputs": [
    {
     "data": {
      "text/plain": [
       "array([[ 0.5,  0. ],\n",
       "       [ 0. ,  0.5]])"
      ]
     },
     "execution_count": 10,
     "metadata": {},
     "output_type": "execute_result"
    }
   ],
   "source": [
    "0.5 * identity(2)"
   ]
  },
  {
   "cell_type": "code",
   "execution_count": 11,
   "id": "dc912ffd",
   "metadata": {
    "collapsed": false
   },
   "outputs": [
    {
     "data": {
      "text/plain": [
       "array([[ 1.3,  0. ],\n",
       "       [ 0. ,  0.3]])"
      ]
     },
     "execution_count": 11,
     "metadata": {},
     "output_type": "execute_result"
    }
   ],
   "source": [
    "identity(2) * 0.3 + array([[1, 0], [0, 0]])"
   ]
  },
  {
   "cell_type": "code",
   "execution_count": 13,
   "id": "77306704",
   "metadata": {
    "collapsed": false
   },
   "outputs": [],
   "source": [
    "a0 = random.random((3,3))\n",
    "a1 = random.random((3,3))"
   ]
  },
  {
   "cell_type": "code",
   "execution_count": 27,
   "id": "e80869e9",
   "metadata": {
    "collapsed": false
   },
   "outputs": [
    {
     "data": {
      "text/plain": [
       "array([[ 0.84258984,  0.3678207 ,  0.87769208],\n",
       "       [ 0.36909916,  0.42353022,  0.54863083],\n",
       "       [ 0.08999536,  0.84152716,  0.51809746]])"
      ]
     },
     "execution_count": 27,
     "metadata": {},
     "output_type": "execute_result"
    }
   ],
   "source": [
    "a0"
   ]
  },
  {
   "cell_type": "code",
   "execution_count": 28,
   "id": "8435fae6",
   "metadata": {
    "collapsed": false
   },
   "outputs": [
    {
     "data": {
      "text/plain": [
       "array([[ 0.61921349,  0.97088541,  0.29053039],\n",
       "       [ 0.55585198,  0.64892932,  0.76012311],\n",
       "       [ 0.18926575,  0.147177  ,  0.28912562]])"
      ]
     },
     "execution_count": 28,
     "metadata": {},
     "output_type": "execute_result"
    }
   ],
   "source": [
    "a1"
   ]
  },
  {
   "cell_type": "code",
   "execution_count": 29,
   "id": "7273af08",
   "metadata": {
    "collapsed": false
   },
   "outputs": [
    {
     "data": {
      "text/plain": [
       "array([[ 0.52174299,  0.35711175,  0.25499623],\n",
       "       [ 0.2051645 ,  0.27484118,  0.41702697],\n",
       "       [ 0.01703304,  0.12385344,  0.14979525]])"
      ]
     },
     "execution_count": 29,
     "metadata": {},
     "output_type": "execute_result"
    }
   ],
   "source": [
    "a0 * a1"
   ]
  },
  {
   "cell_type": "code",
   "execution_count": 30,
   "id": "05bbfb5b",
   "metadata": {
    "collapsed": false
   },
   "outputs": [
    {
     "data": {
      "text/plain": [
       "array([[ 0.8923139 ,  1.1859239 ,  0.77815024],\n",
       "       [ 0.56780831,  0.71394001,  0.58779286],\n",
       "       [ 0.62154898,  0.70971886,  0.81560588]])"
      ]
     },
     "execution_count": 30,
     "metadata": {},
     "output_type": "execute_result"
    }
   ],
   "source": [
    "a0.dot(a1)"
   ]
  },
  {
   "cell_type": "code",
   "execution_count": 31,
   "id": "3cfe98c0",
   "metadata": {
    "collapsed": false
   },
   "outputs": [
    {
     "data": {
      "text/plain": [
       "array([[ 0.8923139 ,  1.1859239 ,  0.77815024],\n",
       "       [ 0.56780831,  0.71394001,  0.58779286],\n",
       "       [ 0.62154898,  0.70971886,  0.81560588]])"
      ]
     },
     "execution_count": 31,
     "metadata": {},
     "output_type": "execute_result"
    }
   ],
   "source": [
    "dot(a0, a1)"
   ]
  },
  {
   "cell_type": "code",
   "execution_count": 32,
   "id": "464ab2a9",
   "metadata": {
    "collapsed": false
   },
   "outputs": [
    {
     "data": {
      "text/plain": [
       "array([[ 0.84258984,  0.36909916,  0.08999536],\n",
       "       [ 0.3678207 ,  0.42353022,  0.84152716],\n",
       "       [ 0.87769208,  0.54863083,  0.51809746]])"
      ]
     },
     "execution_count": 32,
     "metadata": {},
     "output_type": "execute_result"
    }
   ],
   "source": [
    "a0.T"
   ]
  },
  {
   "cell_type": "code",
   "execution_count": 15,
   "id": "d8ace9d7",
   "metadata": {
    "collapsed": false
   },
   "outputs": [
    {
     "data": {
      "text/plain": [
       "array([[  1.00000000e+00,  -8.88178420e-16,  -8.88178420e-16],\n",
       "       [ -8.88178420e-16,   1.00000000e+00,  -1.77635684e-15],\n",
       "       [  2.22044605e-15,   2.66453526e-15,   1.00000000e+00]])"
      ]
     },
     "execution_count": 15,
     "metadata": {},
     "output_type": "execute_result"
    }
   ],
   "source": [
    "linalg.pinv(a0).dot(a0)"
   ]
  },
  {
   "cell_type": "markdown",
   "id": "2264f43a",
   "metadata": {},
   "source": [
    "## Reference\n",
    "* [Lecture 2 Numpy in scientific python lectures](http://nbviewer.ipython.org/github/jrjohansson/scientific-python-lectures/blob/master/Lecture-2-Numpy.ipynb)"
   ]
  }
 ],
 "metadata": {},
 "nbformat": 4,
 "nbformat_minor": 5
}
